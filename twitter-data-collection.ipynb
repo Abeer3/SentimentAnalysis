{
  "nbformat": 4,
  "nbformat_minor": 0,
  "metadata": {
    "kernelspec": {
      "display_name": "Python 3",
      "language": "python",
      "name": "python3"
    },
    "language_info": {
      "codemirror_mode": {
        "name": "ipython",
        "version": 3
      },
      "file_extension": ".py",
      "mimetype": "text/x-python",
      "name": "python",
      "nbconvert_exporter": "python",
      "pygments_lexer": "ipython3",
      "version": "3.7.1"
    },
    "colab": {
      "name": "Twitter Data Collection.ipynb",
      "provenance": [],
      "collapsed_sections": [
        "_Lww1vsgn1Fd",
        "pt2f6MLXn1Fh",
        "WjIuIAwGn1Fp",
        "NscA3v2MyL_w"
      ],
      "include_colab_link": true
    }
  },
  "cells": [
    {
      "cell_type": "markdown",
      "metadata": {
        "id": "view-in-github",
        "colab_type": "text"
      },
      "source": [
        "<a href=\"https://colab.research.google.com/gist/Abeer3/b70374ec800950cbf293c8853f3d5e8a/twitter-data-collection.ipynb\" target=\"_parent\"><img src=\"https://colab.research.google.com/assets/colab-badge.svg\" alt=\"Open In Colab\"/></a>"
      ]
    },
    {
      "cell_type": "markdown",
      "metadata": {
        "id": "lvJLKzFB0hmh"
      },
      "source": [
        "\n",
        "\n",
        "```\n",
        "The initial code is the result of hard work of unique individuals, which has been modified to serve our project purpose.  \n",
        "It will connect to twitter API to retreive the tweets.  \n",
        "This code can be used on any langauage by specifying it.\n",
        "```\n",
        "\n"
      ]
    },
    {
      "cell_type": "markdown",
      "metadata": {
        "id": "_Lww1vsgn1Fd"
      },
      "source": [
        "# Pre-workshop: Installing required libraries"
      ]
    },
    {
      "cell_type": "code",
      "metadata": {
        "id": "BRrB5gH9n1Fe"
      },
      "source": [
        "import sys\n",
        "!{sys.executable} -m pip install tweepy\n",
        "!{sys.executable} -m pip install xlsxwriter"
      ],
      "execution_count": null,
      "outputs": []
    },
    {
      "cell_type": "markdown",
      "metadata": {
        "id": "pt2f6MLXn1Fh"
      },
      "source": [
        "# Step 1: Import important libraries"
      ]
    },
    {
      "cell_type": "code",
      "metadata": {
        "id": "lPh2XhWfn1Fi"
      },
      "source": [
        "#Import the necessary methods from tweepy library\n",
        "import tweepy as tw\n",
        "from tweepy.streaming import StreamListener\n",
        "from tweepy import OAuthHandler\n",
        "from tweepy import Stream\n",
        "import json\n",
        "import pandas as pd\n",
        "import datetime\n",
        "import xlsxwriter"
      ],
      "execution_count": null,
      "outputs": []
    },
    {
      "cell_type": "markdown",
      "metadata": {
        "id": "XHr1lRBZn1Fl"
      },
      "source": [
        "# Step 2: Twitter API user credentials "
      ]
    },
    {
      "cell_type": "code",
      "metadata": {
        "id": "D6ej8aNXn1Fm"
      },
      "source": [
        "#Variables that contains the user credentials to access Twitter API \n",
        "access_token = \"\"\n",
        "access_token_secret = \"\"\n",
        "consumer_key = \"\"\n",
        "consumer_secret = \"\""
      ],
      "execution_count": null,
      "outputs": []
    },
    {
      "cell_type": "markdown",
      "metadata": {
        "id": "WjIuIAwGn1Fp"
      },
      "source": [
        "# Step 3: Establish contection to the API"
      ]
    },
    {
      "cell_type": "code",
      "metadata": {
        "id": "CV-m_LBSn1Fu"
      },
      "source": [
        "#This handles Twitter authetification and the connection to Twitter Streaming API\n",
        "auth = OAuthHandler(consumer_key, consumer_secret)\n",
        "auth.set_access_token(access_token, access_token_secret)\n",
        "api = tw.API(auth, wait_on_rate_limit=True)"
      ],
      "execution_count": null,
      "outputs": []
    },
    {
      "cell_type": "markdown",
      "metadata": {
        "id": "NscA3v2MyL_w"
      },
      "source": [
        "# Step4: Tweets Retrieval "
      ]
    },
    {
      "cell_type": "code",
      "metadata": {
        "id": "KFZt4JDIVb2Z"
      },
      "source": [
        "#define keywords and assign them to variables to be used, you can combine the searchfor two words at the same time. In addition, you can exclude retweteed tweets from appearing  to avoid duplication\n",
        "search_words1 = \" نعود بحذر + جهود -filter:retweets\"\n",
        "search_words2 = \"معاملة + مسحة -filter:retweets\"\n",
        "search_words3 = \" وزارة الصحة + جهود -filter:retweets\"\n",
        "search_words4 = \" نعود بحذر + الصحة + كورونا-filter:retweets\"\n",
        "search_words5 = \"المستشفى+ معاملة+ كورونا -filter:retweets\" or \"المسح -filter:retweets\"\n",
        "search_words6 =\"مصابين+كورونا -filter:retweets\" or \"وزارة الصحة+كورونا -filter:retweets\" or \"فحص+كورونا -filter:retweets\"\\\n",
        "              or \"معاملة+الفحص -filter:retweets\" or \"أبطال الصحة -filter:retweets\" or \"تفشي+ جهود -filter:retweets\"\\\n",
        "              or \"مستشفى -filter:retweets\" or \"وزارة الصحة -filter:retweets\" or \"عيادات تطمن -filter:retweets\"\\\n",
        "              or \"الكادر الطبي -filter:retweets\" or \"مجهود+القطاع الصحي -filter:retweets\" or \"فحص+كورونا -filter:retweets\"\n",
        "search_words7 = \"أبطال الصحة +كورونا-filter:retweets\" or \"فحص+ كورونا-filter:retweets\" \\\n",
        "                or \"مستشفى+ كورونا-filter:retweets\" or \"جهود+ الصحة+السعودية +كورونا-filter:retweets\" or\\\n",
        "                \"جهود + الصحة +كورونا-filter:retweets\" or \"عيادات +تطمن + معاملة-filter:retweets\" or\\\n",
        "                \"عيادة + تأكد + معاملة-filter:retweets\" or \"عيادات + تطمن-filter:retweets\" or\\\n",
        "                \"كوفيد-filter:retweets\"\n",
        "search_words8=\"الصحة+كوفيد-filter:retweets\" or  \"عيادات +تطمن + معاملة-filter:retweets\" or \"جهود + الصحة +كورونا-filter:retweets\"\n",
        "search_words9=\"كرونا+الصحة-filter:retweets\"\n",
        "search_words10=\"المستشفيات+كورونا-filter:retweets\"\n",
        "search_words11=\"corona + uk -filter:retweets\" or \"vaccine -filter:retweets\"\n",
        "search_words12=\"الصحة-filter:retweets\"\n",
        "\n",
        "\n",
        "#you can specify the langaue you want the tweet to be retrived from + the keywords you previously defined + number of items to retrive \n",
        "results = []\n",
        "for tweet in tw.Cursor(api.search,q=search_words9 ,lang=\"ar\").items(1000):\n",
        "    results.append(tweet)"
      ],
      "execution_count": null,
      "outputs": []
    },
    {
      "cell_type": "code",
      "metadata": {
        "id": "WHHPr8JaxXXo"
      },
      "source": [
        "def toDataFrame(tweets):\n",
        "    DataSet = pd.DataFrame()\n",
        "    DataSet['tweetID'] = pd.Series([tweet.id for tweet in tweets])\n",
        "    DataSet['tweetText'] = pd.Series([tweet.text for tweet in tweets])\n",
        "    DataSet['tweetRetweetCt'] = pd.Series([tweet.retweet_count for tweet in tweets])\n",
        "    DataSet['tweetFavoriteCt'] = pd.Series([tweet.favorite_count for tweet in tweets])\n",
        "    DataSet['tweetSource'] = [tweet.source for tweet in tweets]\n",
        "    DataSet['tweetCreated'] = [tweet.created_at for tweet in tweets]\n",
        "    DataSet['userID'] = [tweet.user.id for tweet in tweets]\n",
        "    DataSet['userScreen'] = [tweet.user.screen_name for tweet in tweets]\n",
        "    DataSet['userName'] = [tweet.user.name for tweet in tweets]\n",
        "    DataSet['userCreateDt'] = [tweet.user.created_at for tweet in tweets]\n",
        "    DataSet['userDesc'] = [tweet.user.description for tweet in tweets]\n",
        "    DataSet['userLocation'] = [tweet.user.location for tweet in tweets]\n",
        "    DataSet['userTimezone'] = [tweet.user.time_zone for tweet in tweets]\n",
        "    return DataSet\n",
        "\n",
        "DataSet = toDataFrame(results)"
      ],
      "execution_count": null,
      "outputs": []
    },
    {
      "cell_type": "code",
      "metadata": {
        "colab": {
          "base_uri": "https://localhost:8080/",
          "height": 851
        },
        "id": "1dYfEYqSx1_t",
        "outputId": "f6ab85cf-dc7a-49cd-c915-c2e25ec6a655"
      },
      "source": [
        "DataSet"
      ],
      "execution_count": null,
      "outputs": [
        {
          "output_type": "execute_result",
          "data": {
            "text/html": [
              "<div>\n",
              "<style scoped>\n",
              "    .dataframe tbody tr th:only-of-type {\n",
              "        vertical-align: middle;\n",
              "    }\n",
              "\n",
              "    .dataframe tbody tr th {\n",
              "        vertical-align: top;\n",
              "    }\n",
              "\n",
              "    .dataframe thead th {\n",
              "        text-align: right;\n",
              "    }\n",
              "</style>\n",
              "<table border=\"1\" class=\"dataframe\">\n",
              "  <thead>\n",
              "    <tr style=\"text-align: right;\">\n",
              "      <th></th>\n",
              "      <th>tweetID</th>\n",
              "      <th>tweetText</th>\n",
              "      <th>tweetRetweetCt</th>\n",
              "      <th>tweetFavoriteCt</th>\n",
              "      <th>tweetSource</th>\n",
              "      <th>tweetCreated</th>\n",
              "      <th>userID</th>\n",
              "      <th>userScreen</th>\n",
              "      <th>userName</th>\n",
              "      <th>userCreateDt</th>\n",
              "      <th>userDesc</th>\n",
              "      <th>userLocation</th>\n",
              "      <th>userTimezone</th>\n",
              "    </tr>\n",
              "  </thead>\n",
              "  <tbody>\n",
              "    <tr>\n",
              "      <th>0</th>\n",
              "      <td>1331975185529008134</td>\n",
              "      <td>@silent___side @AJELNEWS24 لا موكذا شف وزاره ا...</td>\n",
              "      <td>0</td>\n",
              "      <td>0</td>\n",
              "      <td>Twitter for iPhone</td>\n",
              "      <td>2020-11-26 14:56:45</td>\n",
              "      <td>997052786658500608</td>\n",
              "      <td>yasser_alghadi</td>\n",
              "      <td>🇸🇦</td>\n",
              "      <td>2018-05-17 09:54:43</td>\n",
              "      <td>دام عزك ياوطن🇸🇦👑.</td>\n",
              "      <td></td>\n",
              "      <td>None</td>\n",
              "    </tr>\n",
              "    <tr>\n",
              "      <th>1</th>\n",
              "      <td>1331968520196861953</td>\n",
              "      <td>@rasheeeeq للاسف نزلت وزني وباقي لي شوي لكن نف...</td>\n",
              "      <td>0</td>\n",
              "      <td>0</td>\n",
              "      <td>Twitter for Android</td>\n",
              "      <td>2020-11-26 14:30:16</td>\n",
              "      <td>2219909985</td>\n",
              "      <td>gaimah60</td>\n",
              "      <td>العنزية</td>\n",
              "      <td>2013-12-11 17:36:48</td>\n",
              "      <td>‏‏‏‏‏‏‏‏‏‏‏‏‏‏‏‏‏لاإله إلاالله محمدا رسول الله...</td>\n",
              "      <td>بريدة الخير</td>\n",
              "      <td>None</td>\n",
              "    </tr>\n",
              "    <tr>\n",
              "      <th>2</th>\n",
              "      <td>1331945230275371008</td>\n",
              "      <td>@beINSPORTS بعد تحذيرات وزاره الصحه المصريه من...</td>\n",
              "      <td>0</td>\n",
              "      <td>0</td>\n",
              "      <td>Twitter for Android</td>\n",
              "      <td>2020-11-26 12:57:43</td>\n",
              "      <td>1048197732253491201</td>\n",
              "      <td>abofaris200011</td>\n",
              "      <td>💔AHMED💔</td>\n",
              "      <td>2018-10-05 13:06:28</td>\n",
              "      <td>‏‏‏‏النفسيه محتاجه..... زياره بيت الله 😍😍\\nالم...</td>\n",
              "      <td>القاهرة, مصر</td>\n",
              "      <td>None</td>\n",
              "    </tr>\n",
              "    <tr>\n",
              "      <th>3</th>\n",
              "      <td>1331927897913896960</td>\n",
              "      <td>الحمدلله والشكر اللهم ابعد عنا الوباء والبلاء ...</td>\n",
              "      <td>0</td>\n",
              "      <td>0</td>\n",
              "      <td>Twitter for iPhone</td>\n",
              "      <td>2020-11-26 11:48:51</td>\n",
              "      <td>247044304</td>\n",
              "      <td>Ali_N_AlaZmi</td>\n",
              "      <td>علي نزال العازمي ( ابو عبدالعزيز )</td>\n",
              "      <td>2011-02-03 23:59:17</td>\n",
              "      <td>حسابي باليوتيوب alganas66 حسابي بالانستغرام al...</td>\n",
              "      <td>الكويت</td>\n",
              "      <td>None</td>\n",
              "    </tr>\n",
              "    <tr>\n",
              "      <th>4</th>\n",
              "      <td>1331919814789656584</td>\n",
              "      <td>عداد ديال الناس خالطهم فيهم كرونا، و ديك لابلي...</td>\n",
              "      <td>0</td>\n",
              "      <td>0</td>\n",
              "      <td>Twitter for Android</td>\n",
              "      <td>2020-11-26 11:16:44</td>\n",
              "      <td>953352465696641024</td>\n",
              "      <td>H_Calimero</td>\n",
              "      <td>الــرايــس 🎣</td>\n",
              "      <td>2018-01-16 19:45:15</td>\n",
              "      <td>Inexistence en voie de disparition.</td>\n",
              "      <td>Casablanca, Grand Casablanca</td>\n",
              "      <td>None</td>\n",
              "    </tr>\n",
              "    <tr>\n",
              "      <th>...</th>\n",
              "      <td>...</td>\n",
              "      <td>...</td>\n",
              "      <td>...</td>\n",
              "      <td>...</td>\n",
              "      <td>...</td>\n",
              "      <td>...</td>\n",
              "      <td>...</td>\n",
              "      <td>...</td>\n",
              "      <td>...</td>\n",
              "      <td>...</td>\n",
              "      <td>...</td>\n",
              "      <td>...</td>\n",
              "      <td>...</td>\n",
              "    </tr>\n",
              "    <tr>\n",
              "      <th>209</th>\n",
              "      <td>1328947006530838534</td>\n",
              "      <td>اي حد هيحط عداد وزارة الصحه بتاع كرونا هحزفه. ...</td>\n",
              "      <td>1</td>\n",
              "      <td>16</td>\n",
              "      <td>Twitter for iPhone</td>\n",
              "      <td>2020-11-18 06:23:51</td>\n",
              "      <td>1053698674663063553</td>\n",
              "      <td>mofouad16560064</td>\n",
              "      <td>mo_fouad</td>\n",
              "      <td>2018-10-20 17:25:15</td>\n",
              "      <td>life coach 💐🌿🤲🏻</td>\n",
              "      <td>Cairo, Egypt</td>\n",
              "      <td>None</td>\n",
              "    </tr>\n",
              "    <tr>\n",
              "      <th>210</th>\n",
              "      <td>1328921233698791432</td>\n",
              "      <td>@howimalhassan 🔶الحمدالله على السلامه وماتشوف ...</td>\n",
              "      <td>0</td>\n",
              "      <td>0</td>\n",
              "      <td>Twitter for Android</td>\n",
              "      <td>2020-11-18 04:41:26</td>\n",
              "      <td>783864431809888256</td>\n",
              "      <td>Fuvu5</td>\n",
              "      <td>ابو لمبه</td>\n",
              "      <td>2016-10-06 03:00:18</td>\n",
              "      <td>‏‏‏الصداقة هي أنني أراك جديراً بأن أئتمنك على ...</td>\n",
              "      <td>الرياض, المملكة العربية السعود</td>\n",
              "      <td>None</td>\n",
              "    </tr>\n",
              "    <tr>\n",
              "      <th>211</th>\n",
              "      <td>1328835811916255232</td>\n",
              "      <td>@youm7 الله وكيل منظومه الصحه طول مافيها مدام ...</td>\n",
              "      <td>0</td>\n",
              "      <td>0</td>\n",
              "      <td>Twitter for Android</td>\n",
              "      <td>2020-11-17 23:02:00</td>\n",
              "      <td>1211908489603239936</td>\n",
              "      <td>shokry35300085</td>\n",
              "      <td>لا حريه مع الخوف</td>\n",
              "      <td>2019-12-31 07:14:57</td>\n",
              "      <td>‏‏‏‏‏‏محامى حر وباحث قانونى في شركه خاصه\\nمعرك...</td>\n",
              "      <td>عين  شمس القاهره</td>\n",
              "      <td>None</td>\n",
              "    </tr>\n",
              "    <tr>\n",
              "      <th>212</th>\n",
              "      <td>1328835665837035521</td>\n",
              "      <td>احنا ف الموجه التانيه وللاسف وزارة الصحه بتتعا...</td>\n",
              "      <td>0</td>\n",
              "      <td>0</td>\n",
              "      <td>Twitter Web App</td>\n",
              "      <td>2020-11-17 23:01:25</td>\n",
              "      <td>1251662241897811968</td>\n",
              "      <td>Mohamme79355924</td>\n",
              "      <td>Mohammed khalied</td>\n",
              "      <td>2020-04-19 00:01:55</td>\n",
              "      <td></td>\n",
              "      <td></td>\n",
              "      <td>None</td>\n",
              "    </tr>\n",
              "    <tr>\n",
              "      <th>213</th>\n",
              "      <td>1328826160806055939</td>\n",
              "      <td>بعد ازمة كرونا تغيرت نظرتي لأطباء العالم كلهم ...</td>\n",
              "      <td>0</td>\n",
              "      <td>0</td>\n",
              "      <td>Twitter for iPhone</td>\n",
              "      <td>2020-11-17 22:23:39</td>\n",
              "      <td>1269320684716593158</td>\n",
              "      <td>AlomarNhati</td>\n",
              "      <td>مِنه</td>\n",
              "      <td>2020-06-06 17:30:36</td>\n",
              "      <td></td>\n",
              "      <td></td>\n",
              "      <td>None</td>\n",
              "    </tr>\n",
              "  </tbody>\n",
              "</table>\n",
              "<p>214 rows × 13 columns</p>\n",
              "</div>"
            ],
            "text/plain": [
              "                 tweetID  ... userTimezone\n",
              "0    1331975185529008134  ...         None\n",
              "1    1331968520196861953  ...         None\n",
              "2    1331945230275371008  ...         None\n",
              "3    1331927897913896960  ...         None\n",
              "4    1331919814789656584  ...         None\n",
              "..                   ...  ...          ...\n",
              "209  1328947006530838534  ...         None\n",
              "210  1328921233698791432  ...         None\n",
              "211  1328835811916255232  ...         None\n",
              "212  1328835665837035521  ...         None\n",
              "213  1328826160806055939  ...         None\n",
              "\n",
              "[214 rows x 13 columns]"
            ]
          },
          "metadata": {
            "tags": []
          },
          "execution_count": 31
        }
      ]
    },
    {
      "cell_type": "code",
      "metadata": {
        "id": "KgU9esqJwAhx"
      },
      "source": [
        "from google.colab import drive  # to mount Google Drive to Colab notebook\n",
        "drive.mount('/content/gdrive')\n",
        "DataSet.to_csv('./gdrive/My Drive/(your file name for example: Arabictest).csv')"
      ],
      "execution_count": null,
      "outputs": []
    }
  ]
}